{
 "cells": [
  {
   "cell_type": "code",
   "execution_count": null,
   "id": "bIqgWfC42xGv",
   "metadata": {
    "colab": {
     "base_uri": "https://localhost:8080/"
    },
    "executionInfo": {
     "elapsed": 160988,
     "status": "ok",
     "timestamp": 1713352700758,
     "user": {
      "displayName": "",
      "userId": ""
     },
     "user_tz": 240
    },
    "id": "bIqgWfC42xGv",
    "outputId": "75f5633f-d98d-494c-efa8-3dd4bd5d7e9b"
   },
   "outputs": [
    {
     "name": "stdout",
     "output_type": "stream",
     "text": [
      "Copying gs://llama-mlhc/mistral-7b/README.md...\n",
      "Copying gs://llama-mlhc/mistral-7b/config.json...\n",
      "Copying gs://llama-mlhc/mistral-7b/generation_config.json...\n",
      "/ [3 files][  4.4 KiB/  4.4 KiB]                                                \n",
      "==> NOTE: You are performing a sequence of gsutil operations that may\n",
      "run significantly faster if you instead use gsutil -m cp ... Please\n",
      "see the -m section under \"gsutil help options\" for further information\n",
      "about when gsutil -m can be advantageous.\n",
      "\n",
      "Copying gs://llama-mlhc/mistral-7b/gitattributes...\n",
      "Copying gs://llama-mlhc/mistral-7b/model-00001-of-00003.safetensors...\n",
      "==> NOTE: You are downloading one or more large file(s), which would\n",
      "run significantly faster if you enabled sliced object downloads. This\n",
      "feature is enabled by default but requires that compiled crcmod be\n",
      "installed (see \"gsutil help crcmod\").\n",
      "\n",
      "Copying gs://llama-mlhc/mistral-7b/model-00002-of-00003.safetensors...\n",
      "Copying gs://llama-mlhc/mistral-7b/model-00003-of-00003.safetensors...\n",
      "Copying gs://llama-mlhc/mistral-7b/model.safetensors.index.json...\n",
      "Copying gs://llama-mlhc/mistral-7b/special_tokens_map.json...\n",
      "Copying gs://llama-mlhc/mistral-7b/tokenizer.json...\n",
      "Copying gs://llama-mlhc/mistral-7b/tokenizer.model...\n",
      "Copying gs://llama-mlhc/mistral-7b/tokenizer_config.json...\n",
      "/ [12 files][ 13.5 GiB/ 13.5 GiB]    3.2 MiB/s                                  \n",
      "Operation completed over 12 objects/13.5 GiB.                                    \n"
     ]
    }
   ],
   "source": [
    "!gsutil cp -r gs://llama-mlhc/mistral-7b"
   ]
  },
  {
   "cell_type": "code",
   "execution_count": null,
   "id": "GSjRZNQbeoM6",
   "metadata": {
    "id": "GSjRZNQbeoM6"
   },
   "outputs": [],
   "source": [
    "!pip install accelerate\n",
    "!pip install bitsandbytes"
   ]
  },
  {
   "cell_type": "code",
   "execution_count": null,
   "id": "UJtk1M2iPjh5",
   "metadata": {
    "id": "UJtk1M2iPjh5"
   },
   "outputs": [],
   "source": [
    "from transformers import (\n",
    "    AutoModelForSeq2SeqLM,\n",
    "    AutoTokenizer,\n",
    "    TrainingArguments,\n",
    "    Seq2SeqTrainer,\n",
    "    DataCollatorForLanguageModeling,\n",
    "    DataCollatorForSeq2Seq,\n",
    "    AutoModelForCausalLM,\n",
    "    Seq2SeqTrainingArguments,\n",
    "    Seq2SeqTrainer,\n",
    "\n",
    "\n",
    ")\n",
    "import json\n",
    "import os\n",
    "import argparse\n",
    "import pandas as pd\n",
    "import numpy as np\n",
    "from sklearn.metrics import f1_score, accuracy_score\n",
    "import torch"
   ]
  },
  {
   "cell_type": "code",
   "execution_count": null,
   "id": "Wja8KjP9Sk7n",
   "metadata": {
    "colab": {
     "base_uri": "https://localhost:8080/",
     "height": 49,
     "referenced_widgets": [
      "168eed73dd4a402eb0707c1b699d2e5d",
      "b9487a3caf2e4ef3bc8a39b66539c2ca",
      "62c56fd8658b4a80818fc8f470ae91ae",
      "367e27b16f9348afb67f16d7d0ebd56c",
      "440202b7e14d40eaa2ab6402555ab280",
      "5622320094b342c89ef19eca81e9ce56",
      "dce2c40590c04766ab74412ddedbf943",
      "8abd9967d8f74d64969f7151ed98120a",
      "6ac18688f2dd4ef59bb6d7721a50dd76",
      "cdfc95b7a7a44bdbb324b85563843ec7",
      "fab0fb487823484ea591b9393ca02b49"
     ]
    },
    "executionInfo": {
     "elapsed": 163490,
     "status": "ok",
     "timestamp": 1713723229610,
     "user": {
      "displayName": "",
      "userId": ""
     },
     "user_tz": 240
    },
    "id": "Wja8KjP9Sk7n",
    "outputId": "d10be77d-edd0-4662-bad4-07683450e2d5"
   },
   "outputs": [
    {
     "data": {
      "application/vnd.jupyter.widget-view+json": {
       "model_id": "168eed73dd4a402eb0707c1b699d2e5d",
       "version_major": 2,
       "version_minor": 0
      },
      "text/plain": [
       "Loading checkpoint shards:   0%|          | 0/3 [00:00<?, ?it/s]"
      ]
     },
     "metadata": {},
     "output_type": "display_data"
    }
   ],
   "source": [
    "model = AutoModelForCausalLM.from_pretrained(\"mistral-7b/\",\n",
    "                                             load_in_4bit=False,\n",
    "                                             torch_dtype=torch.bfloat16,\n",
    "                                             device_map=\"auto\")\n",
    "tokenizer = AutoTokenizer.from_pretrained(\"mistral-7b/\")"
   ]
  },
  {
   "cell_type": "code",
   "execution_count": null,
   "id": "11kbguv_nwL5",
   "metadata": {
    "id": "11kbguv_nwL5"
   },
   "outputs": [],
   "source": [
    "prompts = []\n",
    "for i in range(1000):\n",
    "  prompt = \"\"\"You are helping me study for the usmle.\n",
    "              Share a low-severity example with two labels\n",
    "              'symptoms:' and 'medical test result:'\n",
    "              Do not share anything outside these labels\"\"\"\n",
    "  inputs = tokenizer(prompt, return_tensors=\"pt\")\n",
    "  inputs = inputs.to(\"cuda\")\n",
    "  generate_ids = model.generate(**inputs, max_new_tokens=100, do_sample=True)\n",
    "  new_sample = tokenizer.batch_decode(generate_ids, skip_special_tokens=True, clean_up_tokenization_spaces=False)\n",
    "  prompts.append(new_sample[0])"
   ]
  },
  {
   "cell_type": "code",
   "execution_count": null,
   "id": "XzHlPPFmg5YR",
   "metadata": {
    "id": "XzHlPPFmg5YR"
   },
   "outputs": [],
   "source": [
    "pd.DataFrame({\"prompts\":prompts}).to_csv(\"low_severity_baseline_prompts.csv\")"
   ]
  },
  {
   "cell_type": "code",
   "execution_count": null,
   "id": "5049fd37-5158-4cb5-8caf-2b5848e21061",
   "metadata": {},
   "outputs": [],
   "source": [
    "prompts = []\n",
    "for i in range(1000):\n",
    "  prompt = \"\"\"You are helping me study for the usmle.\n",
    "              Share a high-severity example with two labels\n",
    "              'symptoms:' and 'medical test result:'\n",
    "              Do not share anything outside these labels\"\"\"\n",
    "  inputs = tokenizer(prompt, return_tensors=\"pt\")\n",
    "  inputs = inputs.to(\"cuda\")\n",
    "  generate_ids = model.generate(**inputs, max_new_tokens=100, do_sample=True)\n",
    "  new_sample = tokenizer.batch_decode(generate_ids, skip_special_tokens=True, clean_up_tokenization_spaces=False)\n",
    "  prompts.append(new_sample[0])"
   ]
  },
  {
   "cell_type": "code",
   "execution_count": null,
   "id": "9a62d73a-62fd-4346-817e-752f5f1077ee",
   "metadata": {},
   "outputs": [],
   "source": [
    "pd.DataFrame({\"prompts\":prompts}).to_csv(\"high_severity_baseline_prompts.csv\")"
   ]
  },
  {
   "cell_type": "code",
   "execution_count": null,
   "id": "mIPbKEF1EdN3",
   "metadata": {
    "id": "mIPbKEF1EdN3"
   },
   "outputs": [],
   "source": [
    "prompts = pd.read_csv(\"baseline_prompts.csv\")"
   ]
  },
  {
   "cell_type": "code",
   "execution_count": null,
   "id": "oDsdjkvUrxMs",
   "metadata": {
    "id": "oDsdjkvUrxMs"
   },
   "outputs": [],
   "source": [
    "generated_id_list = []\n",
    "for prompt in prompts[\"baseline_prompt_score\"].tolist():\n",
    "  inputs = tokenizer(prompt, return_tensors=\"pt\")\n",
    "  inputs = inputs.to(\"cuda\")\n",
    "  generate_ids = model.generate(**inputs, max_new_tokens=15, do_sample=True)\n",
    "  new_sample = tokenizer.batch_decode(generate_ids, skip_special_tokens=True, clean_up_tokenization_spaces=False)\n",
    "  generated_id_list.append(new_sample[0])"
   ]
  },
  {
   "cell_type": "code",
   "execution_count": null,
   "id": "zW6FV2bArxIP",
   "metadata": {
    "id": "zW6FV2bArxIP"
   },
   "outputs": [],
   "source": [
    "pd.DataFrame({\"prompts\":generated_id_list}).to_csv(\"baseline_scores_mlhc.csv\")"
   ]
  }
 ],
 "metadata": {
  "colab": {
   "name": "MLHC_Project_02",
   "provenance": []
  },
  "kernelspec": {
   "display_name": "Python 3 (ipykernel)",
   "language": "python",
   "name": "python3"
  },
  "language_info": {
   "codemirror_mode": {
    "name": "ipython",
    "version": 3
   },
   "file_extension": ".py",
   "mimetype": "text/x-python",
   "name": "python",
   "nbconvert_exporter": "python",
   "pygments_lexer": "ipython3",
   "version": "3.11.5"
  },
  "widgets": {
   "application/vnd.jupyter.widget-state+json": {
    "168eed73dd4a402eb0707c1b699d2e5d": {
     "model_module": "@jupyter-widgets/controls",
     "model_module_version": "1.5.0",
     "model_name": "HBoxModel",
     "state": {
      "_dom_classes": [],
      "_model_module": "@jupyter-widgets/controls",
      "_model_module_version": "1.5.0",
      "_model_name": "HBoxModel",
      "_view_count": null,
      "_view_module": "@jupyter-widgets/controls",
      "_view_module_version": "1.5.0",
      "_view_name": "HBoxView",
      "box_style": "",
      "children": [
       "IPY_MODEL_b9487a3caf2e4ef3bc8a39b66539c2ca",
       "IPY_MODEL_62c56fd8658b4a80818fc8f470ae91ae",
       "IPY_MODEL_367e27b16f9348afb67f16d7d0ebd56c"
      ],
      "layout": "IPY_MODEL_440202b7e14d40eaa2ab6402555ab280"
     }
    },
    "367e27b16f9348afb67f16d7d0ebd56c": {
     "model_module": "@jupyter-widgets/controls",
     "model_module_version": "1.5.0",
     "model_name": "HTMLModel",
     "state": {
      "_dom_classes": [],
      "_model_module": "@jupyter-widgets/controls",
      "_model_module_version": "1.5.0",
      "_model_name": "HTMLModel",
      "_view_count": null,
      "_view_module": "@jupyter-widgets/controls",
      "_view_module_version": "1.5.0",
      "_view_name": "HTMLView",
      "description": "",
      "description_tooltip": null,
      "layout": "IPY_MODEL_cdfc95b7a7a44bdbb324b85563843ec7",
      "placeholder": "​",
      "style": "IPY_MODEL_fab0fb487823484ea591b9393ca02b49",
      "value": " 3/3 [02:38&lt;00:00, 52.05s/it]"
     }
    },
    "440202b7e14d40eaa2ab6402555ab280": {
     "model_module": "@jupyter-widgets/base",
     "model_module_version": "1.2.0",
     "model_name": "LayoutModel",
     "state": {
      "_model_module": "@jupyter-widgets/base",
      "_model_module_version": "1.2.0",
      "_model_name": "LayoutModel",
      "_view_count": null,
      "_view_module": "@jupyter-widgets/base",
      "_view_module_version": "1.2.0",
      "_view_name": "LayoutView",
      "align_content": null,
      "align_items": null,
      "align_self": null,
      "border": null,
      "bottom": null,
      "display": null,
      "flex": null,
      "flex_flow": null,
      "grid_area": null,
      "grid_auto_columns": null,
      "grid_auto_flow": null,
      "grid_auto_rows": null,
      "grid_column": null,
      "grid_gap": null,
      "grid_row": null,
      "grid_template_areas": null,
      "grid_template_columns": null,
      "grid_template_rows": null,
      "height": null,
      "justify_content": null,
      "justify_items": null,
      "left": null,
      "margin": null,
      "max_height": null,
      "max_width": null,
      "min_height": null,
      "min_width": null,
      "object_fit": null,
      "object_position": null,
      "order": null,
      "overflow": null,
      "overflow_x": null,
      "overflow_y": null,
      "padding": null,
      "right": null,
      "top": null,
      "visibility": null,
      "width": null
     }
    },
    "5622320094b342c89ef19eca81e9ce56": {
     "model_module": "@jupyter-widgets/base",
     "model_module_version": "1.2.0",
     "model_name": "LayoutModel",
     "state": {
      "_model_module": "@jupyter-widgets/base",
      "_model_module_version": "1.2.0",
      "_model_name": "LayoutModel",
      "_view_count": null,
      "_view_module": "@jupyter-widgets/base",
      "_view_module_version": "1.2.0",
      "_view_name": "LayoutView",
      "align_content": null,
      "align_items": null,
      "align_self": null,
      "border": null,
      "bottom": null,
      "display": null,
      "flex": null,
      "flex_flow": null,
      "grid_area": null,
      "grid_auto_columns": null,
      "grid_auto_flow": null,
      "grid_auto_rows": null,
      "grid_column": null,
      "grid_gap": null,
      "grid_row": null,
      "grid_template_areas": null,
      "grid_template_columns": null,
      "grid_template_rows": null,
      "height": null,
      "justify_content": null,
      "justify_items": null,
      "left": null,
      "margin": null,
      "max_height": null,
      "max_width": null,
      "min_height": null,
      "min_width": null,
      "object_fit": null,
      "object_position": null,
      "order": null,
      "overflow": null,
      "overflow_x": null,
      "overflow_y": null,
      "padding": null,
      "right": null,
      "top": null,
      "visibility": null,
      "width": null
     }
    },
    "62c56fd8658b4a80818fc8f470ae91ae": {
     "model_module": "@jupyter-widgets/controls",
     "model_module_version": "1.5.0",
     "model_name": "FloatProgressModel",
     "state": {
      "_dom_classes": [],
      "_model_module": "@jupyter-widgets/controls",
      "_model_module_version": "1.5.0",
      "_model_name": "FloatProgressModel",
      "_view_count": null,
      "_view_module": "@jupyter-widgets/controls",
      "_view_module_version": "1.5.0",
      "_view_name": "ProgressView",
      "bar_style": "success",
      "description": "",
      "description_tooltip": null,
      "layout": "IPY_MODEL_8abd9967d8f74d64969f7151ed98120a",
      "max": 3,
      "min": 0,
      "orientation": "horizontal",
      "style": "IPY_MODEL_6ac18688f2dd4ef59bb6d7721a50dd76",
      "value": 3
     }
    },
    "6ac18688f2dd4ef59bb6d7721a50dd76": {
     "model_module": "@jupyter-widgets/controls",
     "model_module_version": "1.5.0",
     "model_name": "ProgressStyleModel",
     "state": {
      "_model_module": "@jupyter-widgets/controls",
      "_model_module_version": "1.5.0",
      "_model_name": "ProgressStyleModel",
      "_view_count": null,
      "_view_module": "@jupyter-widgets/base",
      "_view_module_version": "1.2.0",
      "_view_name": "StyleView",
      "bar_color": null,
      "description_width": ""
     }
    },
    "8abd9967d8f74d64969f7151ed98120a": {
     "model_module": "@jupyter-widgets/base",
     "model_module_version": "1.2.0",
     "model_name": "LayoutModel",
     "state": {
      "_model_module": "@jupyter-widgets/base",
      "_model_module_version": "1.2.0",
      "_model_name": "LayoutModel",
      "_view_count": null,
      "_view_module": "@jupyter-widgets/base",
      "_view_module_version": "1.2.0",
      "_view_name": "LayoutView",
      "align_content": null,
      "align_items": null,
      "align_self": null,
      "border": null,
      "bottom": null,
      "display": null,
      "flex": null,
      "flex_flow": null,
      "grid_area": null,
      "grid_auto_columns": null,
      "grid_auto_flow": null,
      "grid_auto_rows": null,
      "grid_column": null,
      "grid_gap": null,
      "grid_row": null,
      "grid_template_areas": null,
      "grid_template_columns": null,
      "grid_template_rows": null,
      "height": null,
      "justify_content": null,
      "justify_items": null,
      "left": null,
      "margin": null,
      "max_height": null,
      "max_width": null,
      "min_height": null,
      "min_width": null,
      "object_fit": null,
      "object_position": null,
      "order": null,
      "overflow": null,
      "overflow_x": null,
      "overflow_y": null,
      "padding": null,
      "right": null,
      "top": null,
      "visibility": null,
      "width": null
     }
    },
    "b9487a3caf2e4ef3bc8a39b66539c2ca": {
     "model_module": "@jupyter-widgets/controls",
     "model_module_version": "1.5.0",
     "model_name": "HTMLModel",
     "state": {
      "_dom_classes": [],
      "_model_module": "@jupyter-widgets/controls",
      "_model_module_version": "1.5.0",
      "_model_name": "HTMLModel",
      "_view_count": null,
      "_view_module": "@jupyter-widgets/controls",
      "_view_module_version": "1.5.0",
      "_view_name": "HTMLView",
      "description": "",
      "description_tooltip": null,
      "layout": "IPY_MODEL_5622320094b342c89ef19eca81e9ce56",
      "placeholder": "​",
      "style": "IPY_MODEL_dce2c40590c04766ab74412ddedbf943",
      "value": "Loading checkpoint shards: 100%"
     }
    },
    "cdfc95b7a7a44bdbb324b85563843ec7": {
     "model_module": "@jupyter-widgets/base",
     "model_module_version": "1.2.0",
     "model_name": "LayoutModel",
     "state": {
      "_model_module": "@jupyter-widgets/base",
      "_model_module_version": "1.2.0",
      "_model_name": "LayoutModel",
      "_view_count": null,
      "_view_module": "@jupyter-widgets/base",
      "_view_module_version": "1.2.0",
      "_view_name": "LayoutView",
      "align_content": null,
      "align_items": null,
      "align_self": null,
      "border": null,
      "bottom": null,
      "display": null,
      "flex": null,
      "flex_flow": null,
      "grid_area": null,
      "grid_auto_columns": null,
      "grid_auto_flow": null,
      "grid_auto_rows": null,
      "grid_column": null,
      "grid_gap": null,
      "grid_row": null,
      "grid_template_areas": null,
      "grid_template_columns": null,
      "grid_template_rows": null,
      "height": null,
      "justify_content": null,
      "justify_items": null,
      "left": null,
      "margin": null,
      "max_height": null,
      "max_width": null,
      "min_height": null,
      "min_width": null,
      "object_fit": null,
      "object_position": null,
      "order": null,
      "overflow": null,
      "overflow_x": null,
      "overflow_y": null,
      "padding": null,
      "right": null,
      "top": null,
      "visibility": null,
      "width": null
     }
    },
    "dce2c40590c04766ab74412ddedbf943": {
     "model_module": "@jupyter-widgets/controls",
     "model_module_version": "1.5.0",
     "model_name": "DescriptionStyleModel",
     "state": {
      "_model_module": "@jupyter-widgets/controls",
      "_model_module_version": "1.5.0",
      "_model_name": "DescriptionStyleModel",
      "_view_count": null,
      "_view_module": "@jupyter-widgets/base",
      "_view_module_version": "1.2.0",
      "_view_name": "StyleView",
      "description_width": ""
     }
    },
    "fab0fb487823484ea591b9393ca02b49": {
     "model_module": "@jupyter-widgets/controls",
     "model_module_version": "1.5.0",
     "model_name": "DescriptionStyleModel",
     "state": {
      "_model_module": "@jupyter-widgets/controls",
      "_model_module_version": "1.5.0",
      "_model_name": "DescriptionStyleModel",
      "_view_count": null,
      "_view_module": "@jupyter-widgets/base",
      "_view_module_version": "1.2.0",
      "_view_name": "StyleView",
      "description_width": ""
     }
    }
   }
  }
 },
 "nbformat": 4,
 "nbformat_minor": 5
}
