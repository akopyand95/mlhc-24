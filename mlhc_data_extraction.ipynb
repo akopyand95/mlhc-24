{
 "cells": [
  {
   "cell_type": "code",
   "execution_count": 38,
   "id": "5bc6adbd-205d-4025-9fd0-fe6061a4087d",
   "metadata": {},
   "outputs": [],
   "source": [
    "import pandas as pd\n",
    "import re\n",
    "import numpy as np"
   ]
  },
  {
   "cell_type": "code",
   "execution_count": 49,
   "id": "dd05e385-6970-4323-80f4-5ed7b9256288",
   "metadata": {},
   "outputs": [],
   "source": [
    "low_severity_prompts = pd.read_csv(\"low_severity_baseline_prompts.csv\")"
   ]
  },
  {
   "cell_type": "code",
   "execution_count": 39,
   "id": "6f4915e7-3a8d-4b24-b5bb-2d96da2f6a4d",
   "metadata": {},
   "outputs": [],
   "source": [
    "high_severity_prompts = pd.read_csv(\"high_severity_baseline_prompts.csv\")\n",
    "prompts = pd.concat([low_severity_prompts, high_severity_prompts])"
   ]
  },
  {
   "cell_type": "code",
   "execution_count": 50,
   "id": "7eb0ed2b-8fae-4a58-b8a6-c3bd829f30d7",
   "metadata": {},
   "outputs": [],
   "source": [
    "prompts[\"prompts_list\"] = prompts[\"prompts\"].apply(lambda x: x[200:])\n",
    "prompts[\"prompts_list\"] = prompts[\"prompts_list\"].apply(lambda x: x.lower())\n",
    "prompts[\"prompts_list\"] = prompts[\"prompts_list\"].apply(lambda x: x.replace(\"\\n\", \",\"))\n",
    "prompts[\"prompts_list\"] = prompts[\"prompts_list\"].apply(lambda x: x.replace(\"-\", \",\"))\n",
    "prompts[\"prompts_list\"] = prompts[\"prompts_list\"].apply(lambda x: x.replace(\"label\", \"\"))\n",
    "prompts[\"prompts_list\"] = prompts[\"prompts_list\"].apply(lambda x: x.replace(\"ii\", \"\"))\n",
    "prompts[\"prompts_list\"] = prompts[\"prompts_list\"].apply(lambda x: x.replace(\",,\", \",\"))\n",
    "prompts[\"prompts_list\"] = prompts[\"prompts_list\"].apply(lambda x: x.replace(\"1.\", \",\"))\n",
    "prompts[\"prompts_list\"] = prompts[\"prompts_list\"].apply(lambda x: x.replace(\"2.\", \",\"))\n",
    "prompts[\"prompts_list\"] = prompts[\"prompts_list\"].apply(lambda x: x.replace(\"3.\", \",\"))\n",
    "prompts[\"prompts_list\"] = prompts[\"prompts_list\"].apply(lambda x: x.replace(\"4.\", \",\"))\n",
    "prompts[\"prompts_list\"] = prompts[\"prompts_list\"].apply(lambda x: x.replace(\"5.\", \",\"))\n",
    "prompts[\"prompts_list\"] = prompts[\"prompts_list\"].apply(lambda x: x.replace(\"6.\", \",\"))\n",
    "prompts[\"prompts_list\"] = prompts[\"prompts_list\"].apply(lambda x: x.replace(\"7.\", \",\"))\n",
    "prompts[\"prompts_list\"] = prompts[\"prompts_list\"].apply(lambda x: x.replace(\"8.\", \",\"))\n",
    "prompts[\"prompts_list\"] = prompts[\"prompts_list\"].apply(lambda x: x.replace(\"9.\", \",\"))\n",
    "prompts[\"prompts_list\"] = prompts[\"prompts_list\"].apply(lambda x: x.strip())"
   ]
  },
  {
   "cell_type": "code",
   "execution_count": 51,
   "id": "914cb3cf-f130-43ea-b859-f7ffaa367d35",
   "metadata": {},
   "outputs": [],
   "source": [
    "pattern = re.compile(\"[^A-Z , a-z [^0-9]\")\n",
    "prompts[\"prompts_list\"] = prompts[\"prompts_list\"].apply(lambda x: pattern.sub(\"\", x))"
   ]
  },
  {
   "cell_type": "code",
   "execution_count": 52,
   "id": "c938e7e4-8b49-4caf-b035-2ace0c1c12a9",
   "metadata": {},
   "outputs": [],
   "source": [
    "prompts[\"prompts_list\"] = prompts[\"prompts_list\"].apply(lambda x: x.replace(\"symptoms\", \":symptoms:\"))\n",
    "prompts[\"prompts_list\"] = prompts[\"prompts_list\"].apply(lambda x: x.replace(\"medical test result\", \":medical test result:\"))\n",
    "prompts[\"prompts_list\"] = prompts[\"prompts_list\"].apply(lambda x: x.replace(\"example\", \":example:\"))"
   ]
  },
  {
   "cell_type": "code",
   "execution_count": 53,
   "id": "7a693666-eb74-4007-8703-fee92a168e69",
   "metadata": {},
   "outputs": [],
   "source": [
    "prompts[\"prompts_list\"] = prompts[\"prompts_list\"].apply(lambda x: x.split(\":\"))"
   ]
  },
  {
   "cell_type": "code",
   "execution_count": 54,
   "id": "9a6cdd39-b3f9-4727-93c6-b377720bf6fb",
   "metadata": {},
   "outputs": [],
   "source": [
    "def get_symptoms(prompt_list, label='symptoms'):\n",
    "    initial_index = prompt_list.index(label) if label in prompt_list else 0\n",
    "    return prompt_list[initial_index+1] if (initial_index > 0) else prompt_list \n",
    "    "
   ]
  },
  {
   "cell_type": "code",
   "execution_count": 55,
   "id": "d091bf17-7f40-41dc-85e1-af3a7d93927d",
   "metadata": {},
   "outputs": [],
   "source": [
    "prompts[\"symptoms\"] = prompts[\"prompts_list\"].apply(lambda x: get_symptoms(x))"
   ]
  },
  {
   "cell_type": "code",
   "execution_count": 56,
   "id": "8d381014-1c28-4160-a6da-ff3c341d434e",
   "metadata": {},
   "outputs": [],
   "source": [
    "prompts[\"medical_test\"] = prompts[\"prompts_list\"].apply(lambda x: get_symptoms(x, label='medical test result'))"
   ]
  },
  {
   "cell_type": "code",
   "execution_count": 57,
   "id": "11c1bbf7-c7ae-4e2e-8de3-c81c91af4be6",
   "metadata": {},
   "outputs": [],
   "source": [
    "prompts.to_csv(\"extracted_results.csv\")"
   ]
  },
  {
   "cell_type": "code",
   "execution_count": null,
   "id": "06e94318-811c-4e68-8e0a-6260c5a43d6b",
   "metadata": {},
   "outputs": [],
   "source": []
  }
 ],
 "metadata": {
  "kernelspec": {
   "display_name": "Python 3 (ipykernel)",
   "language": "python",
   "name": "python3"
  },
  "language_info": {
   "codemirror_mode": {
    "name": "ipython",
    "version": 3
   },
   "file_extension": ".py",
   "mimetype": "text/x-python",
   "name": "python",
   "nbconvert_exporter": "python",
   "pygments_lexer": "ipython3",
   "version": "3.11.5"
  }
 },
 "nbformat": 4,
 "nbformat_minor": 5
}
